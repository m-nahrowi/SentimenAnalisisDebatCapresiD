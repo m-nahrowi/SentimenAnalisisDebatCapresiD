{
 "cells": [
  {
   "cell_type": "markdown",
   "metadata": {},
   "source": [
    "Sentimen Hasil Debat Pemilu\n"
   ]
  },
  {
   "cell_type": "markdown",
   "metadata": {},
   "source": [
    "Analisis Sentimen Debat Capres Pertama\n",
    "\n",
    "1. Cleaning Data\n",
    "2. Preprocessing\n",
    "    - normalisasi\n",
    "    - stopword\n",
    "    - tokenize\n",
    "    - Stemming\n",
    "3. Translate\n",
    "4. Labeling\n",
    "5. Visualisasi\n",
    "6. Klasifikasi Sentimen\n"
   ]
  },
  {
   "cell_type": "code",
   "execution_count": 2,
   "metadata": {},
   "outputs": [],
   "source": [
    "import pandas as pd\n",
    "import re\n",
    "import seaborn as sns\n",
    "import matplotlib.pyplot as plt"
   ]
  },
  {
   "cell_type": "code",
   "execution_count": 3,
   "metadata": {},
   "outputs": [
    {
     "data": {
      "text/html": [
       "<div>\n",
       "<style scoped>\n",
       "    .dataframe tbody tr th:only-of-type {\n",
       "        vertical-align: middle;\n",
       "    }\n",
       "\n",
       "    .dataframe tbody tr th {\n",
       "        vertical-align: top;\n",
       "    }\n",
       "\n",
       "    .dataframe thead th {\n",
       "        text-align: right;\n",
       "    }\n",
       "</style>\n",
       "<table border=\"1\" class=\"dataframe\">\n",
       "  <thead>\n",
       "    <tr style=\"text-align: right;\">\n",
       "      <th></th>\n",
       "      <th>Unnamed: 0</th>\n",
       "      <th>created_at</th>\n",
       "      <th>id_str</th>\n",
       "      <th>full_text</th>\n",
       "      <th>quote_count</th>\n",
       "      <th>reply_count</th>\n",
       "      <th>retweet_count</th>\n",
       "      <th>favorite_count</th>\n",
       "      <th>lang</th>\n",
       "      <th>user_id_str</th>\n",
       "      <th>conversation_id_str</th>\n",
       "      <th>username</th>\n",
       "      <th>tweet_url</th>\n",
       "    </tr>\n",
       "  </thead>\n",
       "  <tbody>\n",
       "    <tr>\n",
       "      <th>0</th>\n",
       "      <td>0</td>\n",
       "      <td>Fri Dec 15 04:04:44 +0000 2023</td>\n",
       "      <td>1.735511e+18</td>\n",
       "      <td>@dedy_pram Pastilah, Prabowo Anies nggak punya...</td>\n",
       "      <td>0.0</td>\n",
       "      <td>0</td>\n",
       "      <td>0.0</td>\n",
       "      <td>0.0</td>\n",
       "      <td>in</td>\n",
       "      <td>797761417894051840</td>\n",
       "      <td>1.735147e+18</td>\n",
       "      <td>MarahIchsan</td>\n",
       "      <td>https://twitter.com/MarahIchsan/status/1735511...</td>\n",
       "    </tr>\n",
       "    <tr>\n",
       "      <th>1</th>\n",
       "      <td>1</td>\n",
       "      <td>Fri Dec 15 04:04:33 +0000 2023</td>\n",
       "      <td>1.735511e+18</td>\n",
       "      <td>Suasana pedesaan memang selalu menyenangkan......</td>\n",
       "      <td>0.0</td>\n",
       "      <td>0</td>\n",
       "      <td>0.0</td>\n",
       "      <td>0.0</td>\n",
       "      <td>in</td>\n",
       "      <td>936445409605459968</td>\n",
       "      <td>1.735511e+18</td>\n",
       "      <td>Agung_wiyo</td>\n",
       "      <td>https://twitter.com/Agung_wiyo/status/17355111...</td>\n",
       "    </tr>\n",
       "    <tr>\n",
       "      <th>2</th>\n",
       "      <td>2</td>\n",
       "      <td>Fri Dec 15 04:04:31 +0000 2023</td>\n",
       "      <td>1.735511e+18</td>\n",
       "      <td>Program anies hanyalah mengubah nama rumah sak...</td>\n",
       "      <td>0.0</td>\n",
       "      <td>0</td>\n",
       "      <td>0.0</td>\n",
       "      <td>0.0</td>\n",
       "      <td>in</td>\n",
       "      <td>768652236</td>\n",
       "      <td>1.735511e+18</td>\n",
       "      <td>Alfakton_i</td>\n",
       "      <td>https://twitter.com/Alfakton_i/status/17355111...</td>\n",
       "    </tr>\n",
       "    <tr>\n",
       "      <th>3</th>\n",
       "      <td>3</td>\n",
       "      <td>Fri Dec 15 04:04:27 +0000 2023</td>\n",
       "      <td>1.735511e+18</td>\n",
       "      <td>@kumparan @aniesbaswedan anies... BERBOHONG DA...</td>\n",
       "      <td>0.0</td>\n",
       "      <td>0</td>\n",
       "      <td>0.0</td>\n",
       "      <td>0.0</td>\n",
       "      <td>in</td>\n",
       "      <td>1710823909275410432</td>\n",
       "      <td>1.735146e+18</td>\n",
       "      <td>justtheway333</td>\n",
       "      <td>https://twitter.com/justtheway333/status/17355...</td>\n",
       "    </tr>\n",
       "    <tr>\n",
       "      <th>4</th>\n",
       "      <td>4</td>\n",
       "      <td>Fri Dec 15 04:04:26 +0000 2023</td>\n",
       "      <td>1.735511e+18</td>\n",
       "      <td>Tidak Bicara Sesuai Fakta! Anies Dengan Lantan...</td>\n",
       "      <td>0.0</td>\n",
       "      <td>0</td>\n",
       "      <td>1.0</td>\n",
       "      <td>1.0</td>\n",
       "      <td>in</td>\n",
       "      <td>1661757337554784264</td>\n",
       "      <td>1.735511e+18</td>\n",
       "      <td>singgihabdrchmn</td>\n",
       "      <td>https://twitter.com/singgihabdrchmn/status/173...</td>\n",
       "    </tr>\n",
       "  </tbody>\n",
       "</table>\n",
       "</div>"
      ],
      "text/plain": [
       "  Unnamed: 0                      created_at        id_str  \\\n",
       "0          0  Fri Dec 15 04:04:44 +0000 2023  1.735511e+18   \n",
       "1          1  Fri Dec 15 04:04:33 +0000 2023  1.735511e+18   \n",
       "2          2  Fri Dec 15 04:04:31 +0000 2023  1.735511e+18   \n",
       "3          3  Fri Dec 15 04:04:27 +0000 2023  1.735511e+18   \n",
       "4          4  Fri Dec 15 04:04:26 +0000 2023  1.735511e+18   \n",
       "\n",
       "                                           full_text  quote_count reply_count  \\\n",
       "0  @dedy_pram Pastilah, Prabowo Anies nggak punya...          0.0           0   \n",
       "1  Suasana pedesaan memang selalu menyenangkan......          0.0           0   \n",
       "2  Program anies hanyalah mengubah nama rumah sak...          0.0           0   \n",
       "3  @kumparan @aniesbaswedan anies... BERBOHONG DA...          0.0           0   \n",
       "4  Tidak Bicara Sesuai Fakta! Anies Dengan Lantan...          0.0           0   \n",
       "\n",
       "   retweet_count  favorite_count lang          user_id_str  \\\n",
       "0            0.0             0.0   in   797761417894051840   \n",
       "1            0.0             0.0   in   936445409605459968   \n",
       "2            0.0             0.0   in            768652236   \n",
       "3            0.0             0.0   in  1710823909275410432   \n",
       "4            1.0             1.0   in  1661757337554784264   \n",
       "\n",
       "   conversation_id_str         username  \\\n",
       "0         1.735147e+18      MarahIchsan   \n",
       "1         1.735511e+18       Agung_wiyo   \n",
       "2         1.735511e+18       Alfakton_i   \n",
       "3         1.735146e+18    justtheway333   \n",
       "4         1.735511e+18  singgihabdrchmn   \n",
       "\n",
       "                                           tweet_url  \n",
       "0  https://twitter.com/MarahIchsan/status/1735511...  \n",
       "1  https://twitter.com/Agung_wiyo/status/17355111...  \n",
       "2  https://twitter.com/Alfakton_i/status/17355111...  \n",
       "3  https://twitter.com/justtheway333/status/17355...  \n",
       "4  https://twitter.com/singgihabdrchmn/status/173...  "
      ]
     },
     "execution_count": 3,
     "metadata": {},
     "output_type": "execute_result"
    }
   ],
   "source": [
    "df = pd.read_csv(\"anies.csv\")\n",
    "df.head()"
   ]
  },
  {
   "cell_type": "code",
   "execution_count": 6,
   "metadata": {},
   "outputs": [
    {
     "data": {
      "text/html": [
       "<div>\n",
       "<style scoped>\n",
       "    .dataframe tbody tr th:only-of-type {\n",
       "        vertical-align: middle;\n",
       "    }\n",
       "\n",
       "    .dataframe tbody tr th {\n",
       "        vertical-align: top;\n",
       "    }\n",
       "\n",
       "    .dataframe thead th {\n",
       "        text-align: right;\n",
       "    }\n",
       "</style>\n",
       "<table border=\"1\" class=\"dataframe\">\n",
       "  <thead>\n",
       "    <tr style=\"text-align: right;\">\n",
       "      <th></th>\n",
       "      <th>full_text</th>\n",
       "      <th>username</th>\n",
       "      <th>created_at</th>\n",
       "    </tr>\n",
       "  </thead>\n",
       "  <tbody>\n",
       "    <tr>\n",
       "      <th>0</th>\n",
       "      <td>@dedy_pram Pastilah, Prabowo Anies nggak punya...</td>\n",
       "      <td>MarahIchsan</td>\n",
       "      <td>Fri Dec 15 04:04:44 +0000 2023</td>\n",
       "    </tr>\n",
       "    <tr>\n",
       "      <th>1</th>\n",
       "      <td>Suasana pedesaan memang selalu menyenangkan......</td>\n",
       "      <td>Agung_wiyo</td>\n",
       "      <td>Fri Dec 15 04:04:33 +0000 2023</td>\n",
       "    </tr>\n",
       "    <tr>\n",
       "      <th>2</th>\n",
       "      <td>Program anies hanyalah mengubah nama rumah sak...</td>\n",
       "      <td>Alfakton_i</td>\n",
       "      <td>Fri Dec 15 04:04:31 +0000 2023</td>\n",
       "    </tr>\n",
       "    <tr>\n",
       "      <th>3</th>\n",
       "      <td>@kumparan @aniesbaswedan anies... BERBOHONG DA...</td>\n",
       "      <td>justtheway333</td>\n",
       "      <td>Fri Dec 15 04:04:27 +0000 2023</td>\n",
       "    </tr>\n",
       "    <tr>\n",
       "      <th>4</th>\n",
       "      <td>Tidak Bicara Sesuai Fakta! Anies Dengan Lantan...</td>\n",
       "      <td>singgihabdrchmn</td>\n",
       "      <td>Fri Dec 15 04:04:26 +0000 2023</td>\n",
       "    </tr>\n",
       "    <tr>\n",
       "      <th>...</th>\n",
       "      <td>...</td>\n",
       "      <td>...</td>\n",
       "      <td>...</td>\n",
       "    </tr>\n",
       "    <tr>\n",
       "      <th>510</th>\n",
       "      <td>Tiga untuk Indonesia lebih baik  .  tag || Gac...</td>\n",
       "      <td>TugimanPresiden</td>\n",
       "      <td>Fri Dec 15 03:36:13 +0000 2023</td>\n",
       "    </tr>\n",
       "    <tr>\n",
       "      <th>511</th>\n",
       "      <td>@herculep638 Makanya susah memahami apa yg dis...</td>\n",
       "      <td>Pribumituan</td>\n",
       "      <td>Fri Dec 15 03:36:13 +0000 2023</td>\n",
       "    </tr>\n",
       "    <tr>\n",
       "      <th>512</th>\n",
       "      <td>Buat Pak Anies ,bukankah anda saat itu yg KD G...</td>\n",
       "      <td>Kacaback678910</td>\n",
       "      <td>Fri Dec 15 03:36:12 +0000 2023</td>\n",
       "    </tr>\n",
       "    <tr>\n",
       "      <th>513</th>\n",
       "      <td>Anies Baswedan, sosok pemimpin yang memahami b...</td>\n",
       "      <td>YKasmono4</td>\n",
       "      <td>Fri Dec 15 03:36:12 +0000 2023</td>\n",
       "    </tr>\n",
       "    <tr>\n",
       "      <th>514</th>\n",
       "      <td>Anies Baswedan diharapkan dapat membawa peruba...</td>\n",
       "      <td>DediSudraj83464</td>\n",
       "      <td>Fri Dec 15 03:36:12 +0000 2023</td>\n",
       "    </tr>\n",
       "  </tbody>\n",
       "</table>\n",
       "<p>515 rows × 3 columns</p>\n",
       "</div>"
      ],
      "text/plain": [
       "                                             full_text         username  \\\n",
       "0    @dedy_pram Pastilah, Prabowo Anies nggak punya...      MarahIchsan   \n",
       "1    Suasana pedesaan memang selalu menyenangkan......       Agung_wiyo   \n",
       "2    Program anies hanyalah mengubah nama rumah sak...       Alfakton_i   \n",
       "3    @kumparan @aniesbaswedan anies... BERBOHONG DA...    justtheway333   \n",
       "4    Tidak Bicara Sesuai Fakta! Anies Dengan Lantan...  singgihabdrchmn   \n",
       "..                                                 ...              ...   \n",
       "510  Tiga untuk Indonesia lebih baik  .  tag || Gac...  TugimanPresiden   \n",
       "511  @herculep638 Makanya susah memahami apa yg dis...      Pribumituan   \n",
       "512  Buat Pak Anies ,bukankah anda saat itu yg KD G...   Kacaback678910   \n",
       "513  Anies Baswedan, sosok pemimpin yang memahami b...        YKasmono4   \n",
       "514  Anies Baswedan diharapkan dapat membawa peruba...  DediSudraj83464   \n",
       "\n",
       "                         created_at  \n",
       "0    Fri Dec 15 04:04:44 +0000 2023  \n",
       "1    Fri Dec 15 04:04:33 +0000 2023  \n",
       "2    Fri Dec 15 04:04:31 +0000 2023  \n",
       "3    Fri Dec 15 04:04:27 +0000 2023  \n",
       "4    Fri Dec 15 04:04:26 +0000 2023  \n",
       "..                              ...  \n",
       "510  Fri Dec 15 03:36:13 +0000 2023  \n",
       "511  Fri Dec 15 03:36:13 +0000 2023  \n",
       "512  Fri Dec 15 03:36:12 +0000 2023  \n",
       "513  Fri Dec 15 03:36:12 +0000 2023  \n",
       "514  Fri Dec 15 03:36:12 +0000 2023  \n",
       "\n",
       "[515 rows x 3 columns]"
      ]
     },
     "execution_count": 6,
     "metadata": {},
     "output_type": "execute_result"
    }
   ],
   "source": [
    "df = df[['full_text', 'username', 'created_at']]\n",
    "df"
   ]
  },
  {
   "cell_type": "code",
   "execution_count": 7,
   "metadata": {},
   "outputs": [
    {
     "data": {
      "text/plain": [
       "(515, 3)"
      ]
     },
     "execution_count": 7,
     "metadata": {},
     "output_type": "execute_result"
    }
   ],
   "source": [
    "df.shape"
   ]
  },
  {
   "cell_type": "code",
   "execution_count": 9,
   "metadata": {},
   "outputs": [],
   "source": [
    "df = df.drop_duplicates(subset=['full_text'])"
   ]
  },
  {
   "cell_type": "code",
   "execution_count": 10,
   "metadata": {},
   "outputs": [
    {
     "data": {
      "text/plain": [
       "0"
      ]
     },
     "execution_count": 10,
     "metadata": {},
     "output_type": "execute_result"
    }
   ],
   "source": [
    "df.duplicated().sum()"
   ]
  },
  {
   "cell_type": "code",
   "execution_count": 11,
   "metadata": {},
   "outputs": [],
   "source": [
    "df = df.dropna()"
   ]
  },
  {
   "cell_type": "code",
   "execution_count": 14,
   "metadata": {},
   "outputs": [
    {
     "data": {
      "text/plain": [
       "full_text     0\n",
       "username      0\n",
       "created_at    0\n",
       "dtype: int64"
      ]
     },
     "execution_count": 14,
     "metadata": {},
     "output_type": "execute_result"
    }
   ],
   "source": [
    "df.isnull().sum()"
   ]
  },
  {
   "cell_type": "code",
   "execution_count": 15,
   "metadata": {},
   "outputs": [
    {
     "data": {
      "text/plain": [
       "(508, 3)"
      ]
     },
     "execution_count": 15,
     "metadata": {},
     "output_type": "execute_result"
    }
   ],
   "source": [
    "df.shape"
   ]
  },
  {
   "cell_type": "code",
   "execution_count": null,
   "metadata": {},
   "outputs": [],
   "source": [
    "def celan_twitter_text(text):\n",
    "    text = re.sub(r'@[A-Za-z0-9_]+', '', text)\n",
    "    text = re.sub(r'#\\w+','',text)\n",
    "    text = re.sub(r'RT[\\s]+','',text)\n",
    "    text = re.sub(r'https?://\\S+','',text)\n",
    "    text = re.sub(r'[^A-Za-z0-9 ]','',text)\n",
    "    text = re.sub(r'\\s+',' ',text).strip()\n",
    "    \n",
    "    return text"
   ]
  }
 ],
 "metadata": {
  "kernelspec": {
   "display_name": "Python 3 (ipykernel)",
   "language": "python",
   "name": "python3"
  }
 },
 "nbformat": 4,
 "nbformat_minor": 2
}
